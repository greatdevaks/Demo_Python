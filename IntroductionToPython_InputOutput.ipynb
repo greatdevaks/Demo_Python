{
 "cells": [
  {
   "cell_type": "code",
   "execution_count": 1,
   "metadata": {},
   "outputs": [
    {
     "name": "stdout",
     "output_type": "stream",
     "text": [
      "Hello World!\n"
     ]
    }
   ],
   "source": [
    "#print statement\n",
    "print(\"Hello World!\")"
   ]
  },
  {
   "cell_type": "code",
   "execution_count": 2,
   "metadata": {},
   "outputs": [
    {
     "name": "stdout",
     "output_type": "stream",
     "text": [
      "anmol\n"
     ]
    },
    {
     "data": {
      "text/plain": [
       "'anmol'"
      ]
     },
     "execution_count": 2,
     "metadata": {},
     "output_type": "execute_result"
    }
   ],
   "source": [
    "#taking input from the user\n",
    "input()"
   ]
  },
  {
   "cell_type": "code",
   "execution_count": 3,
   "metadata": {},
   "outputs": [
    {
     "name": "stdout",
     "output_type": "stream",
     "text": [
      "Jake\n",
      "Hi! Jake\n"
     ]
    }
   ],
   "source": [
    "#printing the input taken by storing it into a variable\n",
    "n = input()\n",
    "print(\"Hi! {}\".format(n))"
   ]
  },
  {
   "cell_type": "code",
   "execution_count": 4,
   "metadata": {},
   "outputs": [
    {
     "name": "stdout",
     "output_type": "stream",
     "text": [
      "Jake\n"
     ]
    }
   ],
   "source": [
    "#printing just the variable\n",
    "print(n)"
   ]
  },
  {
   "cell_type": "code",
   "execution_count": 5,
   "metadata": {},
   "outputs": [
    {
     "name": "stdout",
     "output_type": "stream",
     "text": [
      "What is your name?Dave\n"
     ]
    }
   ],
   "source": [
    "#sending arguments in input to show on screen in form of question(say)\n",
    "var1 = input(\"What is your name?\")"
   ]
  },
  {
   "cell_type": "code",
   "execution_count": 6,
   "metadata": {},
   "outputs": [
    {
     "name": "stdout",
     "output_type": "stream",
     "text": [
      "Dave\n"
     ]
    }
   ],
   "source": [
    "#printing the variable var1\n",
    "print(var1)"
   ]
  },
  {
   "cell_type": "code",
   "execution_count": 7,
   "metadata": {},
   "outputs": [
    {
     "name": "stdout",
     "output_type": "stream",
     "text": [
      "My My My My My \n"
     ]
    }
   ],
   "source": [
    "#printing a particular string 'n' number of times...simply '*' by 'n'\n",
    "print(\"My \" * 5)"
   ]
  },
  {
   "cell_type": "code",
   "execution_count": 8,
   "metadata": {},
   "outputs": [
    {
     "name": "stdout",
     "output_type": "stream",
     "text": [
      "5 6 7\n"
     ]
    }
   ],
   "source": [
    "#printing multiple outputs on the same line using space...just use the comma delimiter\n",
    "print(5, 6, 7)"
   ]
  },
  {
   "cell_type": "code",
   "execution_count": 9,
   "metadata": {},
   "outputs": [
    {
     "name": "stdout",
     "output_type": "stream",
     "text": [
      "5:6:7\n"
     ]
    }
   ],
   "source": [
    "#using 'sep' to define separator to be put in the string output between different values\n",
    "print(5, 6, 7, sep=\":\")"
   ]
  },
  {
   "cell_type": "code",
   "execution_count": 10,
   "metadata": {},
   "outputs": [
    {
     "name": "stdout",
     "output_type": "stream",
     "text": [
      "5 6 7!!"
     ]
    }
   ],
   "source": [
    "#using 'end' to define the character or sequence to be put at the end of the string\n",
    "print(5, 6, 7, end=\"!!\")"
   ]
  },
  {
   "cell_type": "code",
   "execution_count": 11,
   "metadata": {},
   "outputs": [
    {
     "name": "stdout",
     "output_type": "stream",
     "text": [
      "p\n",
      "y\n",
      "t\n",
      "h\n",
      "o\n",
      "n\n"
     ]
    }
   ],
   "source": [
    "#traversing a string character by character: Example 1\n",
    "for i in \"python\":\n",
    "    print(i)"
   ]
  },
  {
   "cell_type": "code",
   "execution_count": 12,
   "metadata": {},
   "outputs": [
    {
     "name": "stdout",
     "output_type": "stream",
     "text": [
      "p\n",
      "y\n",
      "t\n",
      "h\n",
      "o\n",
      "n\n"
     ]
    }
   ],
   "source": [
    "#traversing a string character by character: Example 2\n",
    "str = \"python\"\n",
    "for i in str:\n",
    "    print(i)"
   ]
  },
  {
   "cell_type": "code",
   "execution_count": 17,
   "metadata": {},
   "outputs": [
    {
     "name": "stdout",
     "output_type": "stream",
     "text": [
      "p:y:t:h:o:n:\n",
      "\n",
      "python"
     ]
    }
   ],
   "source": [
    "#modifying the format of string being printed using 'end'...printing on the same line\n",
    "str = \"python\"\n",
    "for i in str:\n",
    "    print(i, end=\":\")\n",
    "\n",
    "#printing new line\n",
    "print(\"\\n\")\n",
    "\n",
    "#printing the string with no spaces\n",
    "for i in str:\n",
    "    print(i, end=\"\")"
   ]
  },
  {
   "cell_type": "code",
   "execution_count": 22,
   "metadata": {},
   "outputs": [
    {
     "name": "stdout",
     "output_type": "stream",
     "text": [
      "Enter a number:9999999\n",
      "9999999\n"
     ]
    }
   ],
   "source": [
    "#converting the input() into int...default input() type is string\n",
    "var2 = int(input(\"Enter a number:\"))\n",
    "print(var2)"
   ]
  },
  {
   "cell_type": "code",
   "execution_count": 25,
   "metadata": {},
   "outputs": [
    {
     "name": "stdout",
     "output_type": "stream",
     "text": [
      "Enter a listRam is a good boy!\n",
      "['R', 'a', 'm', ' ', 'i', 's', ' ', 'a', ' ', 'g', 'o', 'o', 'd', ' ', 'b', 'o', 'y', '!']\n"
     ]
    }
   ],
   "source": [
    "#converting the input string into list of characters...default input() type is string\n",
    "var3 = list(input(\"Enter a list\"))\n",
    "print(var3)"
   ]
  },
  {
   "cell_type": "code",
   "execution_count": 29,
   "metadata": {},
   "outputs": [
    {
     "name": "stdout",
     "output_type": "stream",
     "text": [
      "420\n"
     ]
    }
   ],
   "source": [
    "#Problem 1: Print '420' without any number of digit in the source codeprint\n",
    "print(ord('e') - ord('a'), ord('c') - ord('a'), ord('a') - ord('a'), sep=\"\")"
   ]
  }
 ],
 "metadata": {
  "kernelspec": {
   "display_name": "Python 3",
   "language": "python",
   "name": "python3"
  },
  "language_info": {
   "codemirror_mode": {
    "name": "ipython",
    "version": 3
   },
   "file_extension": ".py",
   "mimetype": "text/x-python",
   "name": "python",
   "nbconvert_exporter": "python",
   "pygments_lexer": "ipython3",
   "version": "3.6.3"
  }
 },
 "nbformat": 4,
 "nbformat_minor": 2
}
